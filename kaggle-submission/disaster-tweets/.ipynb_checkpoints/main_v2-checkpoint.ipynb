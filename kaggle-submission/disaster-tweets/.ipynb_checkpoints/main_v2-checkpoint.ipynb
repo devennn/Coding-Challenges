{
 "cells": [
  {
   "cell_type": "code",
   "execution_count": 24,
   "metadata": {},
   "outputs": [],
   "source": [
    "import pandas as pd\n",
    "from pathlib import Path\n",
    "import os\n",
    "import re\n",
    "from unicodedata import normalize\n",
    "import string\n",
    "import pickle as pkl\n",
    "\n",
    "from sklearn.feature_extraction.text import CountVectorizer\n",
    "from sklearn.model_selection import train_test_split\n",
    "from sklearn.linear_model import LogisticRegression\n",
    "from sklearn.metrics import accuracy_score"
   ]
  },
  {
   "cell_type": "code",
   "execution_count": 25,
   "metadata": {},
   "outputs": [],
   "source": [
    "path = Path('.').parent.absolute()\n",
    "\n",
    "full_train = os.path.join(path, 'raw-dataset', 'train.csv')\n",
    "train_df = pd.read_csv(full_train, encoding='utf-8')\n",
    "\n",
    "full_test = os.path.join(path, 'raw-dataset', 'test.csv')\n",
    "test_df = pd.read_csv(full_test, encoding='utf-8')"
   ]
  },
  {
   "cell_type": "markdown",
   "metadata": {},
   "source": [
    "# Preprocess Tweet Data"
   ]
  },
  {
   "cell_type": "code",
   "execution_count": 26,
   "metadata": {},
   "outputs": [],
   "source": [
    "def cleaning(tweet_text, df):\n",
    "    temp = []\n",
    "    table = str.maketrans(\"\", \"\", string.punctuation)\n",
    "    for tweet in tweet_text:\n",
    "        # Remove links\n",
    "        tweet = re.sub(r\"http\\S+\", \"\", tweet)\n",
    "        # Remove newline\n",
    "        tweet = tweet.strip('\\n')\n",
    "        # Remove unicode\n",
    "        tweet = normalize('NFKD', tweet).encode('ascii','ignore')\n",
    "        # Remove username\n",
    "        tweet = re.sub('@[^\\s]+','',str(tweet))\n",
    "#         # Remove hashtag\n",
    "#         tweet = re.sub('#[^\\s]+', '', tweet)\n",
    "        # Remove punctuation and change to lower case\n",
    "        tweet = tweet.translate(table).lower()\n",
    "        # Remove 'b' at the begining for binary\n",
    "        tweet = tweet.replace('b', '', 1)\n",
    "        # Remove whitespace at start of sentence\n",
    "        tweet = tweet.strip()\n",
    "        temp.append(tweet)\n",
    "    try:\n",
    "        # Concatenate training with target\n",
    "        processed_tweets = pd.concat([pd.DataFrame(temp), df['target']], axis=1)\n",
    "        processed_tweets = pd.DataFrame(processed_tweets)\n",
    "    except KeyError:\n",
    "        processed_tweets = pd.DataFrame(temp)\n",
    "    print(processed_tweets)\n",
    "    return processed_tweets   "
   ]
  },
  {
   "cell_type": "code",
   "execution_count": 27,
   "metadata": {},
   "outputs": [
    {
     "name": "stdout",
     "output_type": "stream",
     "text": [
      "                                                      0  target\n",
      "0     our deeds are the reason of this earthquake ma...       1\n",
      "1                 forest fire near la ronge sask canada       1\n",
      "2     all residents asked to shelter in place are be...       1\n",
      "3     13000 people receive wildfires evacuation orde...       1\n",
      "4     just got sent this photo from ruby alaska as s...       1\n",
      "...                                                 ...     ...\n",
      "7608  two giant cranes holding a bridge collapse int...       1\n",
      "7609  the out of control wild fires in california ev...       1\n",
      "7610               m194 0104 utc5km s of volcano hawaii       1\n",
      "7611  police investigating after an ebike collided w...       1\n",
      "7612  the latest more homes razed by northern califo...       1\n",
      "\n",
      "[7613 rows x 2 columns]\n",
      "                                                      0\n",
      "0                    just happened a terrible car crash\n",
      "1     heard about earthquake is different cities sta...\n",
      "2     there is a forest fire at spot pond geese are ...\n",
      "3                 apocalypse lighting spokane wildfires\n",
      "4         typhoon soudelor kills 28 in china and taiwan\n",
      "...                                                 ...\n",
      "3258  earthquake safety los angeles uo safety fasten...\n",
      "3259  storm in ri worse than last hurricane my citya...\n",
      "3260                   green line derailment in chicago\n",
      "3261           meg issues hazardous weather outlook hwo\n",
      "3262  cityofcalgary has activated its municipal emer...\n",
      "\n",
      "[3263 rows x 1 columns]\n"
     ]
    }
   ],
   "source": [
    "# Preprocess training and testing tweets\n",
    "processed_tr_tweets = cleaning(train_df['text'], train_df)\n",
    "processed_tst_tweets = cleaning(test_df['text'], test_df)"
   ]
  },
  {
   "cell_type": "markdown",
   "metadata": {},
   "source": [
    "# Tokenization"
   ]
  },
  {
   "cell_type": "code",
   "execution_count": 28,
   "metadata": {},
   "outputs": [],
   "source": [
    "def vectorize_tweets(count_vect, data):\n",
    "    vect_tweets = count_vect.fit_transform(data)\n",
    "    vect_tweets = vect_tweets.toarray()\n",
    "    return vect_tweets, count_vect"
   ]
  },
  {
   "cell_type": "code",
   "execution_count": 33,
   "metadata": {
    "scrolled": true
   },
   "outputs": [
    {
     "name": "stdout",
     "output_type": "stream",
     "text": [
      "Training length: 7613\n",
      "Testing length: 3263\n",
      "Length of train + test: 10876\n"
     ]
    }
   ],
   "source": [
    "# Convert a collection of text documents to a matrix of token counts\n",
    "count_vect = CountVectorizer(analyzer='word', lowercase=False, stop_words='english')\n",
    "# Combine both train and test\n",
    "# Prevent unequal length of variables after tokenization\n",
    "combined_tr_tst = pd.concat([processed_tr_tweets[0], processed_tst_tweets[0]], axis=0)\n",
    "combined_vect,_ = vectorize_tweets(count_vect, combined_tr_tst)\n",
    "\n",
    "# Check length\n",
    "len_tr = len(processed_tr_tweets[0])\n",
    "print('Training length: %d' %len_tr)\n",
    "len_tst = len(processed_tst_tweets[0])\n",
    "print('Testing length: %d' %len_tst)\n",
    "print('Length of train + test: %d' %len(combined_vect))\n",
    "\n",
    "# Split back to train and test\n",
    "vect_tweets = combined_vect[:len_tr]\n",
    "vect_tst_tweets = combined_vect[len_tr:]"
   ]
  },
  {
   "cell_type": "markdown",
   "metadata": {},
   "source": [
    "# Balancing Training and testing model data"
   ]
  },
  {
   "cell_type": "code",
   "execution_count": null,
   "metadata": {},
   "outputs": [],
   "source": [
    "# Checking number of tweets per target\n",
    "real, fake, unknown = 0, 0, 0\n",
    "real_tweet, fake_tweet = [], []\n",
    "for i in range(len(processed_tr_tweets)):\n",
    "    temp = processed_tr_tweets['target'][i]\n",
    "    if temp == 1:\n",
    "        real += 1\n",
    "        real_tweet.append(processed_tr_tweets[0][i])\n",
    "    elif temp == 0:\n",
    "        fake += 1\n",
    "        fake_tweet.append(processed_tr_tweets[0][i])\n",
    "    else:\n",
    "        unknown += 1\n",
    "print(real, fake, unknown)\n",
    "temp = pd.DataFrame(fake_tweet)[:real]\n",
    "a = real_tweet + fake_tweet\n",
    "print(len(a))\n",
    "print(len(processed_tr_tweets[0]))"
   ]
  },
  {
   "cell_type": "markdown",
   "metadata": {},
   "source": [
    "# Training and Evaluation"
   ]
  },
  {
   "cell_type": "code",
   "execution_count": 34,
   "metadata": {},
   "outputs": [],
   "source": [
    "# Split training and testing\n",
    "X_train, X_test, y_train, y_test  = train_test_split(\n",
    "        vect_tweets, \n",
    "        processed_tr_tweets['target'],\n",
    "        train_size=0.80, \n",
    "        random_state=True\n",
    ")"
   ]
  },
  {
   "cell_type": "code",
   "execution_count": 35,
   "metadata": {},
   "outputs": [
    {
     "name": "stderr",
     "output_type": "stream",
     "text": [
      "[Parallel(n_jobs=1)]: Using backend SequentialBackend with 1 concurrent workers.\n",
      "[Parallel(n_jobs=1)]: Done   1 out of   1 | elapsed:    7.8s remaining:    0.0s\n",
      "[Parallel(n_jobs=1)]: Done   1 out of   1 | elapsed:    7.8s finished\n"
     ]
    }
   ],
   "source": [
    "# Train\n",
    "model = LogisticRegression(solver='lbfgs', verbose=2)\n",
    "model = model.fit(\n",
    "    X=X_train, y=y_train,\n",
    ")"
   ]
  },
  {
   "cell_type": "code",
   "execution_count": 36,
   "metadata": {},
   "outputs": [
    {
     "name": "stdout",
     "output_type": "stream",
     "text": [
      "1523\n",
      "0.804333552199606\n"
     ]
    }
   ],
   "source": [
    "# Evaluate model\n",
    "y_pred = model.predict(X_test)\n",
    "print(len(y_pred))\n",
    "print(accuracy_score(y_test, y_pred))"
   ]
  },
  {
   "cell_type": "markdown",
   "metadata": {},
   "source": [
    "# Predict new data"
   ]
  },
  {
   "cell_type": "code",
   "execution_count": 10,
   "metadata": {},
   "outputs": [
    {
     "name": "stdout",
     "output_type": "stream",
     "text": [
      "         id  0\n",
      "0         0  1\n",
      "1         2  1\n",
      "2         3  1\n",
      "3         9  0\n",
      "4        11  1\n",
      "...     ... ..\n",
      "3258  10861  1\n",
      "3259  10865  1\n",
      "3260  10868  1\n",
      "3261  10874  1\n",
      "3262  10875  0\n",
      "\n",
      "[3263 rows x 2 columns]\n"
     ]
    }
   ],
   "source": [
    "# Predict\n",
    "new_prediction = model.predict(vect_tst_tweets)\n",
    "new_prediction = pd.DataFrame(new_prediction)\n",
    "new_prediction = pd.concat([test_df['id'], new_prediction], axis=1)\n",
    "print(new_prediction)"
   ]
  },
  {
   "cell_type": "code",
   "execution_count": 12,
   "metadata": {},
   "outputs": [],
   "source": [
    "def save_submission(new_prediction):\n",
    "    new_prediction = new_prediction.rename({0: 'target'}, axis=1) \n",
    "    new_prediction.to_csv('submission2.csv', index=False)\n",
    "\n",
    "save_submission(new_prediction)"
   ]
  },
  {
   "cell_type": "code",
   "execution_count": null,
   "metadata": {},
   "outputs": [],
   "source": []
  }
 ],
 "metadata": {
  "kernelspec": {
   "display_name": "Python 3",
   "language": "python",
   "name": "python3"
  },
  "language_info": {
   "codemirror_mode": {
    "name": "ipython",
    "version": 3
   },
   "file_extension": ".py",
   "mimetype": "text/x-python",
   "name": "python",
   "nbconvert_exporter": "python",
   "pygments_lexer": "ipython3",
   "version": "3.7.5"
  }
 },
 "nbformat": 4,
 "nbformat_minor": 2
}

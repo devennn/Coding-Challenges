{
 "cells": [
  {
   "cell_type": "code",
   "execution_count": 1,
   "metadata": {},
   "outputs": [],
   "source": [
    "import pandas as pd\n",
    "from pathlib import Path\n",
    "import os\n",
    "import re\n",
    "import operator"
   ]
  },
  {
   "cell_type": "code",
   "execution_count": 2,
   "metadata": {},
   "outputs": [
    {
     "name": "stdout",
     "output_type": "stream",
     "text": [
      "Empty DataFrame\n",
      "Columns: [id, keyword, location, text, target]\n",
      "Index: []\n"
     ]
    }
   ],
   "source": [
    "path = Path('.').parent.absolute()\n",
    "full_train = os.path.join(path, 'raw-dataset', 'train.csv')\n",
    "full_test = os.path.join(path, 'raw-dataset', 'test.csv')\n",
    "train_df = pd.read_csv(full_train)\n",
    "test_df = pd.read_csv(full_test)\n",
    "\n",
    "print(train_df[:0])"
   ]
  },
  {
   "cell_type": "code",
   "execution_count": 3,
   "metadata": {},
   "outputs": [],
   "source": [
    "keyword_list = {}\n",
    "\n",
    "for i in range(len(train_df)):\n",
    "    keyword = str(train_df['keyword'].iloc[i])\n",
    "    if '%20' in keyword:\n",
    "        keyword = re.sub('%20', ' ', keyword)\n",
    "    if keyword not in keyword_list:\n",
    "        keyword_list[keyword] = 0\n",
    "    keyword_list[keyword] += 1\n",
    "        \n",
    "del keyword_list['nan']\n",
    "# print(keyword_list)"
   ]
  },
  {
   "cell_type": "code",
   "execution_count": 4,
   "metadata": {},
   "outputs": [
    {
     "name": "stdout",
     "output_type": "stream",
     "text": [
      "[('derailment', 39), ('outbreak', 39), ('wreckage', 39), ('debris', 37), ('oil spill', 37), ('typhoon', 37), ('evacuated', 32), ('rescuers', 32), ('suicide bomb', 32), ('suicide bombing', 32), ('nuclear disaster', 31), ('razed', 31), ('airplane accident', 30), ('earthquake', 30), ('suicide bomber', 30), ('bridge collapse', 29), ('collision', 29), ('wildfire', 29), ('buildings on fire', 28), ('casualties', 28), ('drought', 28), ('evacuation', 28), ('mass murder', 28), ('sandstorm', 28), ('bombing', 27), ('devastation', 27), ('forest fires', 27), ('hostages', 27), ('sinkhole', 27), ('wild fires', 27), ('deaths', 26), ('derailed', 26), ('displaced', 26), ('famine', 26), ('fatal', 26), ('fatalities', 26), ('floods', 26), ('thunderstorm', 26), ('violent storm', 26), ('wounded', 26), ('attack', 25), ('evacuate', 25), ('flooding', 25), ('heat wave', 25), ('massacre', 25), ('accident', 24), ('buildings burning', 24), ('dust storm', 24), ('hailstorm', 24), ('injured', 24), ('terrorism', 24), ('collided', 23), ('rioting', 23), ('structural failure', 23), ('terrorist', 23), ('arson', 22), ('bioterror', 22), ('fire truck', 22), ('hazardous', 22), ('refugees', 22), ('tragedy', 22), ('attacked', 21), ('bioterrorism', 21), ('burning buildings', 21), ('crashed', 21), ('emergency plan', 21), ('police', 21), ('survivors', 21), ('ambulance', 20), ('catastrophic', 20), ('explosion', 20), ('hurricane', 20), ('bombed', 19), ('cyclone', 19), ('damage', 19), ('engulfed', 19), ('hijacker', 19), ('mass murderer', 19), ('bush fires', 18), ('devastated', 18), ('hail', 18), ('natural disaster', 18), ('rainstorm', 18), ('storm', 18), ('volcano', 18), ('derail', 17), ('lightning', 17), ('rescued', 17), ('weapons', 17), ('hijack', 16), ('tornado', 16), ('windstorm', 16), ('bomb', 15), ('casualty', 15), ('chemical emergency', 15), ('collapse', 15), ('disaster', 15), ('drowned', 15), ('flood', 15), ('forest fire', 15), ('hijacking', 15), ('hostage', 15), ('emergency', 14), ('landslide', 14), ('nuclear reactor', 14), ('quarantined', 14), ('weapon', 14), ('whirlwind', 14), ('ablaze', 13), ('collapsed', 13), ('electrocuted', 13), ('flames', 13), ('seismic', 13), ('snowstorm', 13), ('crash', 12), ('eyewitness', 12), ('first responders', 12), ('mudslide', 12), ('thunder', 12), ('annihilated', 11), ('emergency services', 11), ('fire', 11), ('injury', 11), ('trauma', 11), ('tsunami', 11), ('annihilation', 10), ('burning', 10), ('detonate', 10), ('fatality', 10), ('rubble', 10), ('survived', 10), ('wounds', 10), ('apocalypse', 9), ('death', 9), ('demolition', 9), ('destroy', 9), ('detonation', 9), ('drowning', 9), ('exploded', 9), ('injuries', 9), ('sunk', 9), ('trapped', 9), ('arsonist', 8), ('cliff fall', 8), ('danger', 8), ('destroyed', 8), ('military', 8), ('pandemonium', 8), ('sinking', 8), ('burned', 7), ('catastrophe', 7), ('dead', 7), ('deluged', 7), ('demolished', 7), ('desolate', 7), ('desolation', 7), ('hazard', 7), ('hellfire', 7), ('loud bang', 7), ('sirens', 7), ('war zone', 7), ('wreck', 7), ('deluge', 6), ('destruction', 6), ('inundated', 6), ('riot', 6), ('upheaval', 6), ('armageddon', 5), ('army', 5), ('battle', 5), ('blaze', 5), ('bleeding', 5), ('blood', 5), ('blown up', 5), ('body bagging', 5), ('curfew', 5), ('demolish', 5), ('fear', 5), ('flattened', 5), ('lava', 5), ('meltdown', 5), ('quarantine', 5), ('radiation emergency', 5), ('rescue', 5), ('screams', 5), ('siren', 5), ('survive', 5), ('trouble', 5), ('twister', 5), ('avalanche', 4), ('blizzard', 4), ('crush', 4), ('crushed', 4), ('harm', 4), ('obliterate', 4), ('obliterated', 4), ('obliteration', 4), ('screamed', 4), ('bloody', 3), ('collide', 3), ('drown', 3), ('explode', 3), ('mayhem', 3), ('panic', 3), ('smoke', 3), ('stretcher', 3), ('wrecked', 3), ('blew up', 2), ('blight', 2), ('inundation', 2), ('panicking', 2), ('screaming', 2), ('threat', 2), ('traumatised', 2), ('blazing', 1), ('body bag', 1), ('body bags', 1), ('electrocute', 1), ('epicentre', 1), ('ruin', 1)]\n"
     ]
    }
   ],
   "source": [
    "def get_keyword(train_df, i):\n",
    "    keyword = str(train_df['keyword'].iloc[i])\n",
    "    if '%20' in keyword:\n",
    "        keyword = re.sub('%20', ' ', keyword)\n",
    "    return keyword\n",
    "\n",
    "real_fire = []\n",
    "keyword_count_real = {}\n",
    "no_fire = []\n",
    "keyword_count_no = {}\n",
    "\n",
    "for i in range(len(train_df)):\n",
    "    if train_df['target'].iloc[i] == True:\n",
    "        keyword = get_keyword(train_df, i)\n",
    "        real_fire.append(keyword)\n",
    "        if keyword in keyword_count_real:\n",
    "            keyword_count_real[keyword] += 1\n",
    "        else:\n",
    "            keyword_count_real[keyword] = 1\n",
    "    else:\n",
    "        keyword = get_keyword(train_df, i)\n",
    "        no_fire.append(keyword)\n",
    "        if keyword in keyword_count_no:\n",
    "            keyword_count_no[keyword] += 1\n",
    "        else:\n",
    "            keyword_count_no[keyword] = 1\n",
    "\n",
    "del keyword_count_real['nan']\n",
    "keyword_count_real = sorted(keyword_count_real.items(), key=operator.itemgetter(1), reverse=True)\n",
    "del keyword_count_no['nan']\n",
    "keyword_count_no = sorted(keyword_count_no.items(), key=operator.itemgetter(1), reverse=True)\n",
    "\n",
    "print(keyword_count_real)"
   ]
  },
  {
   "cell_type": "code",
   "execution_count": 5,
   "metadata": {},
   "outputs": [
    {
     "name": "stdout",
     "output_type": "stream",
     "text": [
      "=== This words are confirmed as real as they do no present in no_fire list: ===\n",
      "\n",
      "derailment\n",
      "wreckage\n",
      "debris\n"
     ]
    }
   ],
   "source": [
    "print(\"=== This words are confirmed as real fire: ===\\n\")\n",
    "for keyword in keyword_count_real:\n",
    "    if keyword[0] not in no_fire:\n",
    "        print(keyword[0])"
   ]
  },
  {
   "cell_type": "code",
   "execution_count": null,
   "metadata": {},
   "outputs": [],
   "source": []
  }
 ],
 "metadata": {
  "kernelspec": {
   "display_name": "Python 3",
   "language": "python",
   "name": "python3"
  },
  "language_info": {
   "codemirror_mode": {
    "name": "ipython",
    "version": 3
   },
   "file_extension": ".py",
   "mimetype": "text/x-python",
   "name": "python",
   "nbconvert_exporter": "python",
   "pygments_lexer": "ipython3",
   "version": "3.7.5"
  }
 },
 "nbformat": 4,
 "nbformat_minor": 2
}

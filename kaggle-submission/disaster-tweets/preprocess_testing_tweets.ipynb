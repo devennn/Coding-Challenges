{
 "cells": [
  {
   "cell_type": "code",
   "execution_count": 33,
   "metadata": {},
   "outputs": [],
   "source": [
    "import pandas as pd\n",
    "from pathlib import Path\n",
    "import os\n",
    "import re\n",
    "from unicodedata import normalize\n",
    "import string\n",
    "from sklearn.feature_extraction.text import CountVectorizer\n",
    "import pickle as pkl"
   ]
  },
  {
   "cell_type": "code",
   "execution_count": 34,
   "metadata": {},
   "outputs": [],
   "source": [
    "path = Path('.').parent.absolute()\n",
    "full_test = os.path.join(path, 'raw-dataset', 'test.csv')\n",
    "test_df = pd.read_csv(full_test, encoding='utf-8')"
   ]
  },
  {
   "cell_type": "code",
   "execution_count": 49,
   "metadata": {},
   "outputs": [],
   "source": [
    "tweet_text = test_df['text']\n",
    "clean_tweet = []\n",
    "hashtags_list = []\n",
    "for tweet in tweet_text:\n",
    "    # Remove links\n",
    "    tweet = re.sub(r\"http\\S+\", \"\", tweet)\n",
    "    # Remove newline\n",
    "    tweet = tweet.strip('\\n')\n",
    "    # Remove unicode\n",
    "    tweet = normalize('NFKD', tweet).encode('ascii','ignore')\n",
    "    # Remove username\n",
    "    tweet = re.sub('@[^\\s]+','',str(tweet))\n",
    "    clean_tweet.append(tweet)\n",
    "\n",
    "    # Store and remove hashtags\n",
    "    temp = re.findall('#[^\\s]+', tweet)\n",
    "    table = str.maketrans(\"\", \"\", string.punctuation)\n",
    "    temp = [s.translate(table) for s in temp]\n",
    "    for hashtag in temp:\n",
    "        hashtag = re.sub(\"#\", \"\", hashtag)\n",
    "        hashtag = hashtag.lower()\n",
    "        if hashtag not in hashtags_list:\n",
    "            hashtags_list.append(hashtag)\n",
    "\n",
    "processed_tweets = []\n",
    "for i in range(len(clean_tweet)):\n",
    "    tweet = clean_tweet[i]\n",
    "    tweet = re.sub('#[^\\s]+', '', tweet)\n",
    "    tweet = tweet.translate(table).lower()\n",
    "    tweet = tweet.replace('b', '', 1)\n",
    "    tweet = tweet.strip()\n",
    "    processed_tweets.append(tweet)\n",
    "    \n",
    "with open('test_tweet.pkl', 'w') as f:\n",
    "    f.write(str(processed_tweets))"
   ]
  },
  {
   "cell_type": "code",
   "execution_count": null,
   "metadata": {},
   "outputs": [],
   "source": []
  }
 ],
 "metadata": {
  "kernelspec": {
   "display_name": "Python 3",
   "language": "python",
   "name": "python3"
  },
  "language_info": {
   "codemirror_mode": {
    "name": "ipython",
    "version": 3
   },
   "file_extension": ".py",
   "mimetype": "text/x-python",
   "name": "python",
   "nbconvert_exporter": "python",
   "pygments_lexer": "ipython3",
   "version": "3.7.4"
  }
 },
 "nbformat": 4,
 "nbformat_minor": 2
}

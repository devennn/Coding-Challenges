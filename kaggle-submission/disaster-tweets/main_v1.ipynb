{
 "cells": [
  {
   "cell_type": "code",
   "execution_count": 1,
   "metadata": {},
   "outputs": [],
   "source": [
    "import pandas as pd\n",
    "from pathlib import Path\n",
    "import os\n",
    "import re\n",
    "from unicodedata import normalize\n",
    "import string\n",
    "import pickle as pkl\n",
    "\n",
    "from sklearn.feature_extraction.text import CountVectorizer\n",
    "from sklearn.model_selection import train_test_split\n",
    "from sklearn.linear_model import LogisticRegression\n",
    "from sklearn.metrics import accuracy_score"
   ]
  },
  {
   "cell_type": "code",
   "execution_count": 2,
   "metadata": {},
   "outputs": [],
   "source": [
    "path = Path('.').parent.absolute()\n",
    "\n",
    "full_train = os.path.join(path, 'raw-dataset', 'train.csv')\n",
    "train_df = pd.read_csv(full_train, encoding='utf-8')\n",
    "\n",
    "full_test = os.path.join(path, 'raw-dataset', 'test.csv')\n",
    "test_df = pd.read_csv(full_test, encoding='utf-8')"
   ]
  },
  {
   "cell_type": "code",
   "execution_count": 3,
   "metadata": {},
   "outputs": [],
   "source": [
    "def cleaning(tweet_text):\n",
    "    clean_tweet = []\n",
    "    hashtags_list = []\n",
    "    for tweet in tweet_text:\n",
    "        # Remove links\n",
    "        tweet = re.sub(r\"http\\S+\", \"\", tweet)\n",
    "        # Remove newline\n",
    "        tweet = tweet.strip('\\n')\n",
    "        # Remove unicode\n",
    "        tweet = normalize('NFKD', tweet).encode('ascii','ignore')\n",
    "        # Remove username\n",
    "        tweet = re.sub('@[^\\s]+','',str(tweet))\n",
    "        clean_tweet.append(tweet)\n",
    "\n",
    "    # Store and remove hashtags\n",
    "    temp = re.findall('#[^\\s]+', tweet)\n",
    "    table = str.maketrans(\"\", \"\", string.punctuation)\n",
    "    temp = [s.translate(table) for s in temp]\n",
    "    for hashtag in temp:\n",
    "        hashtag = re.sub(\"#\", \"\", hashtag)\n",
    "        hashtag = hashtag.lower()\n",
    "        if hashtag not in hashtags_list:\n",
    "            hashtags_list.append(hashtag)\n",
    "    \n",
    "    return clean_tweet, hashtags_list\n",
    "\n",
    "def more_cleaning(clean_tweet, df):\n",
    "    temp = []\n",
    "    table = str.maketrans(\"\", \"\", string.punctuation)\n",
    "    for i in range(len(clean_tweet)):\n",
    "        tweet = clean_tweet[i]\n",
    "        tweet = re.sub('#[^\\s]+', '', tweet)\n",
    "        tweet = tweet.translate(table).lower()\n",
    "        tweet = tweet.replace('b', '', 1)\n",
    "        tweet = tweet.strip()\n",
    "        temp.append(tweet)\n",
    "    try:\n",
    "        processed_tweets = zip(temp, df['target'])\n",
    "        processed_tweets = pd.DataFrame(processed_tweets)\n",
    "    except KeyError:\n",
    "        processed_tweets = temp\n",
    "        processed_tweets = pd.DataFrame(processed_tweets)\n",
    "    print(processed_tweets)\n",
    "    return processed_tweets"
   ]
  },
  {
   "cell_type": "code",
   "execution_count": 4,
   "metadata": {},
   "outputs": [
    {
     "name": "stdout",
     "output_type": "stream",
     "text": [
      "                                                      0  1\n",
      "0     our deeds are the reason of this  may allah fo...  1\n",
      "1                 forest fire near la ronge sask canada  1\n",
      "2     all residents asked to shelter in place are be...  1\n",
      "3     13000 people receive  evacuation orders in cal...  1\n",
      "4     just got sent this photo from ruby  as smoke f...  1\n",
      "...                                                 ... ..\n",
      "7608  two giant cranes holding a bridge collapse int...  1\n",
      "7609  the out of control wild fires in california ev...  1\n",
      "7610               m194 0104 utc5km s of volcano hawaii  1\n",
      "7611  police investigating after an ebike collided w...  1\n",
      "7612  the latest more homes razed by northern califo...  1\n",
      "\n",
      "[7613 rows x 2 columns]\n",
      "                                                      0\n",
      "0                    just happened a terrible car crash\n",
      "1     heard about  is different cities stay safe eve...\n",
      "2     there is a forest fire at spot pond geese are ...\n",
      "3                                   apocalypse lighting\n",
      "4         typhoon soudelor kills 28 in china and taiwan\n",
      "...                                                 ...\n",
      "3258  earthquake safety los angeles uo safety fasten...\n",
      "3259  storm in ri worse than last hurricane my citya...\n",
      "3260                   green line derailment in chicago\n",
      "3261           meg issues hazardous weather outlook hwo\n",
      "3262         has activated its municipal emergency plan\n",
      "\n",
      "[3263 rows x 1 columns]\n"
     ]
    }
   ],
   "source": [
    "tweet_text = train_df['text']\n",
    "clean_tr_tweet, hashtags_tr_list = cleaning(tweet_text)\n",
    "processed_tr_tweets = more_cleaning(clean_tr_tweet, train_df)\n",
    "\n",
    "tweet_text = test_df['text']\n",
    "clean_tst_tweet, hashtags_tst_list = cleaning(tweet_text)\n",
    "processed_tst_tweets = more_cleaning(clean_tst_tweet, test_df)"
   ]
  },
  {
   "cell_type": "code",
   "execution_count": 5,
   "metadata": {},
   "outputs": [
    {
     "name": "stdout",
     "output_type": "stream",
     "text": [
      "3271 4342 0\n"
     ]
    }
   ],
   "source": [
    "# Checking number of tweets per target\n",
    "real, fake, unknown = 0, 0, 0\n",
    "real_tweet, fake_tweet = {}, {}\n",
    "for i in range(len(processed_tr_tweets)):\n",
    "    temp = processed_tr_tweets[1][i]\n",
    "    if temp == 1:\n",
    "        real += 1\n",
    "    elif temp == 0:\n",
    "        fake += 1\n",
    "    else:\n",
    "        unknown += 1\n",
    "print(real, fake, unknown)"
   ]
  },
  {
   "cell_type": "code",
   "execution_count": 6,
   "metadata": {},
   "outputs": [],
   "source": [
    "def vectorize_tweets(count_vect, data):\n",
    "    vect_tweets = count_vect.fit_transform(data)\n",
    "    vect_tweets = vect_tweets.toarray()\n",
    "    return vect_tweets, count_vect"
   ]
  },
  {
   "cell_type": "code",
   "execution_count": 7,
   "metadata": {
    "scrolled": true
   },
   "outputs": [
    {
     "name": "stdout",
     "output_type": "stream",
     "text": [
      "Training length: 7613\n",
      "Testing length: 3263\n",
      "Length of train + test: 10876\n"
     ]
    }
   ],
   "source": [
    "count_vect = CountVectorizer(analyzer='word', lowercase=False)\n",
    "\n",
    "len_tr = len(processed_tr_tweets[0])\n",
    "print('Training length: %d' %len_tr)\n",
    "len_tst = len(processed_tst_tweets[0])\n",
    "print('Testing length: %d' %len_tst)\n",
    "combined_tr_tst = pd.concat([processed_tr_tweets[0], processed_tst_tweets[0]], axis=0)\n",
    "combined_vect,_ = vectorize_tweets(count_vect, combined_tr_tst)\n",
    "print('Length of train + test: %d' %len(combined_vect))\n",
    "\n",
    "vect_tweets = combined_vect[:len_tr]\n",
    "vect_tst_tweets = combined_vect[len_tr:]\n",
    "\n",
    "# vect_tweets, count_vect = vectorize_tweets(count_vect, processed_tr_tweets[0])\n",
    "# vect_tst_tweets,_ = vectorize_tweets(count_vect, processed_tst_tweets[0])"
   ]
  },
  {
   "cell_type": "code",
   "execution_count": 8,
   "metadata": {},
   "outputs": [],
   "source": [
    "X_train, X_test, y_train, y_test  = train_test_split(\n",
    "        vect_tweets, \n",
    "        processed_tr_tweets[1],\n",
    "        train_size=0.80, \n",
    "        random_state=True\n",
    ")"
   ]
  },
  {
   "cell_type": "code",
   "execution_count": 9,
   "metadata": {},
   "outputs": [],
   "source": [
    "# Train\n",
    "log_model = LogisticRegression(solver='lbfgs')\n",
    "log_model = log_model.fit(X=X_train, y=y_train)"
   ]
  },
  {
   "cell_type": "code",
   "execution_count": 10,
   "metadata": {},
   "outputs": [
    {
     "name": "stdout",
     "output_type": "stream",
     "text": [
      "1523\n",
      "0.7957977675640184\n"
     ]
    }
   ],
   "source": [
    "# Evaluate model\n",
    "y_pred = log_model.predict(X_test)\n",
    "print(len(y_pred))\n",
    "print(accuracy_score(y_test, y_pred))"
   ]
  },
  {
   "cell_type": "code",
   "execution_count": 11,
   "metadata": {},
   "outputs": [
    {
     "name": "stdout",
     "output_type": "stream",
     "text": [
      "         id  0\n",
      "0         0  1\n",
      "1         2  0\n",
      "2         3  1\n",
      "3         9  0\n",
      "4        11  1\n",
      "...     ... ..\n",
      "3258  10861  1\n",
      "3259  10865  1\n",
      "3260  10868  1\n",
      "3261  10874  1\n",
      "3262  10875  0\n",
      "\n",
      "[3263 rows x 2 columns]\n"
     ]
    }
   ],
   "source": [
    "# Predict\n",
    "new_prediction = log_model.predict(vect_tst_tweets)\n",
    "new_prediction = pd.DataFrame(new_prediction)\n",
    "new_prediction = pd.concat([test_df['id'], new_prediction], axis=1)\n",
    "print(new_prediction)"
   ]
  },
  {
   "cell_type": "code",
   "execution_count": 12,
   "metadata": {},
   "outputs": [],
   "source": [
    "confirmed = ['derailment', 'wreckage', 'debris']\n",
    "for keyword in test_df['keyword']:\n",
    "    temp = pd.isna(keyword)\n",
    "    if temp is False and temp in confirmed:\n",
    "        print(keyword)"
   ]
  },
  {
   "cell_type": "code",
   "execution_count": 13,
   "metadata": {},
   "outputs": [],
   "source": [
    "new_prediction = new_prediction.rename({0: 'target'}, axis=1) \n",
    "new_prediction.to_csv('submission.csv', index=False)"
   ]
  }
 ],
 "metadata": {
  "kernelspec": {
   "display_name": "Python 3",
   "language": "python",
   "name": "python3"
  },
  "language_info": {
   "codemirror_mode": {
    "name": "ipython",
    "version": 3
   },
   "file_extension": ".py",
   "mimetype": "text/x-python",
   "name": "python",
   "nbconvert_exporter": "python",
   "pygments_lexer": "ipython3",
   "version": "3.7.5"
  }
 },
 "nbformat": 4,
 "nbformat_minor": 2
}

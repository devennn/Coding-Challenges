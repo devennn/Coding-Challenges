{
 "cells": [
  {
   "cell_type": "code",
   "execution_count": 14,
   "metadata": {},
   "outputs": [],
   "source": [
    "import pandas as pd\n",
    "import webbrowser\n",
    "import os\n",
    "import matplotlib.pyplot as plt\n",
    "\n",
    "from mylib import preprocessing as prep"
   ]
  },
  {
   "cell_type": "code",
   "execution_count": 19,
   "metadata": {
    "scrolled": true
   },
   "outputs": [
    {
     "name": "stdout",
     "output_type": "stream",
     "text": [
      "\n",
      "============================\n",
      "::: List 0 :::\n",
      "============================\n",
      "dtypes\n",
      "============================\n",
      "PassengerId      int64\n",
      "Survived         int64\n",
      "Pclass           int64\n",
      "Name            object\n",
      "Sex             object\n",
      "Age            float64\n",
      "SibSp            int64\n",
      "Parch            int64\n",
      "Ticket          object\n",
      "Fare           float64\n",
      "Cabin           object\n",
      "Embarked        object\n",
      "dtype: object\n",
      "============================\n",
      "Number of Null in Every Column\n",
      "============================\n",
      "PassengerId      0\n",
      "Survived         0\n",
      "Pclass           0\n",
      "Name             0\n",
      "Sex              0\n",
      "Age            177\n",
      "SibSp            0\n",
      "Parch            0\n",
      "Ticket           0\n",
      "Fare             0\n",
      "Cabin          687\n",
      "Embarked         2\n",
      "dtype: int64\n"
     ]
    }
   ],
   "source": [
    "# Specify csv data and processed file name for saving\n",
    "str = 'train'\n",
    "data_filename = str + '.csv'\n",
    "data_save_filename = str + '_formatted.csv'\n",
    "# Read data and do quick check\n",
    "data = pd.read_csv(data_filename)\n",
    "df = pd.DataFrame(data)\n",
    "prep.quick_overview([df])"
   ]
  },
  {
   "cell_type": "code",
   "execution_count": 20,
   "metadata": {},
   "outputs": [],
   "source": [
    "# Delete all unwanted Columns\n",
    "col_name = [\n",
    "    'PassengerId',\n",
    "    'Name',\n",
    "    'Ticket',\n",
    "    'Fare',\n",
    "    'Cabin',\n",
    "    'Embarked'\n",
    "]\n",
    "df = prep.delete_unwanted_columns(df, col_name)    \n",
    "# prep.quick_overview(df)"
   ]
  },
  {
   "cell_type": "code",
   "execution_count": 21,
   "metadata": {},
   "outputs": [
    {
     "data": {
      "image/png": "[encoded data removed]",
      "text/plain": [
       "<Figure size 432x288 with 1 Axes>"
      ]
     },
     "metadata": {
      "needs_background": "light"
     },
     "output_type": "display_data"
    }
   ],
   "source": [
    "# Replacing age range to one label\n",
    "oldCol = 'Age'\n",
    "newCol = 'Age_categories'\n",
    "delOldCol = True\n",
    "cutRange = [-1,0, 5, 12, 18, 35, 60, 100]\n",
    "dataLabel = ['Missing', 'Infant', 'Child', 'Teenager', 'Young Adult', 'Adult', 'Senior']\n",
    "df.fillna(-1, inplace=True)\n",
    "df = prep.replace_column_numeric(df, cutRange, dataLabel, oldCol, newCol, delOldCol)\n",
    "\n",
    "# Plot table\n",
    "age_categories_pivot = df.pivot_table(index=\"Age_categories\",values=\"Survived\")\n",
    "age_categories_pivot.plot.bar()\n",
    "plt.show()"
   ]
  },
  {
   "cell_type": "code",
   "execution_count": 23,
   "metadata": {},
   "outputs": [],
   "source": [
    "# Do further processing and save to new csv file\n",
    "\n",
    "# one-hot encoded data\n",
    "features_df = pd.get_dummies(df, columns=['Pclass', 'Sex', 'Age_categories', 'SibSp', 'Parch'])\n",
    "# prep.view_on_html(features_df)\n",
    "features_df = prep.delete_unwanted_columns(features_df, ['Age_categories_Missing', 'Embarked_-1'])  \n",
    "features_df.to_csv(data_save_filename, index=False)"
   ]
  },
  {
   "cell_type": "code",
   "execution_count": 24,
   "metadata": {},
   "outputs": [],
   "source": [
    "new_data = pd.read_csv(data_save_filename)\n",
    "prep.view_on_html(new_data)"
   ]
  },
  {
   "cell_type": "code",
   "execution_count": null,
   "metadata": {},
   "outputs": [],
   "source": []
  }
 ],
 "metadata": {
  "kernelspec": {
   "display_name": "Python 3",
   "language": "python",
   "name": "python3"
  },
  "language_info": {
   "codemirror_mode": {
    "name": "ipython",
    "version": 3
   },
   "file_extension": ".py",
   "mimetype": "text/x-python",
   "name": "python",
   "nbconvert_exporter": "python",
   "pygments_lexer": "ipython3",
   "version": "3.7.4"
  }
 },
 "nbformat": 4,
 "nbformat_minor": 2
}

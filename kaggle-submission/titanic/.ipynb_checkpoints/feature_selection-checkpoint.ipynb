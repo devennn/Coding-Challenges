{
 "cells": [
  {
   "cell_type": "code",
   "execution_count": 6,
   "metadata": {},
   "outputs": [],
   "source": [
    "import numpy as np\n",
    "import joblib as joblib\n",
    "import pandas as pd"
   ]
  },
  {
   "cell_type": "code",
   "execution_count": 7,
   "metadata": {},
   "outputs": [
    {
     "ename": "AttributeError",
     "evalue": "'DataFrame' object has no attribute 'colums'",
     "output_type": "error",
     "traceback": [
      "\u001b[1;31m---------------------------------------------------------------------------\u001b[0m",
      "\u001b[1;31mAttributeError\u001b[0m                            Traceback (most recent call last)",
      "\u001b[1;32m<ipython-input-7-8e1f1994019b>\u001b[0m in \u001b[0;36m<module>\u001b[1;34m\u001b[0m\n\u001b[0;32m      1\u001b[0m \u001b[0mdata\u001b[0m \u001b[1;33m=\u001b[0m \u001b[0mpd\u001b[0m\u001b[1;33m.\u001b[0m\u001b[0mread_csv\u001b[0m\u001b[1;33m(\u001b[0m\u001b[1;34m'data.csv'\u001b[0m\u001b[1;33m)\u001b[0m\u001b[1;33m\u001b[0m\u001b[1;33m\u001b[0m\u001b[0m\n\u001b[0;32m      2\u001b[0m \u001b[0mdf\u001b[0m \u001b[1;33m=\u001b[0m \u001b[0mpd\u001b[0m\u001b[1;33m.\u001b[0m\u001b[0mDataFrame\u001b[0m\u001b[1;33m(\u001b[0m\u001b[0mdata\u001b[0m\u001b[1;33m)\u001b[0m\u001b[1;33m\u001b[0m\u001b[1;33m\u001b[0m\u001b[0m\n\u001b[1;32m----> 3\u001b[1;33m \u001b[0mprint\u001b[0m\u001b[1;33m(\u001b[0m\u001b[0mdf\u001b[0m\u001b[1;33m.\u001b[0m\u001b[0mcolums\u001b[0m\u001b[1;33m)\u001b[0m\u001b[1;33m\u001b[0m\u001b[1;33m\u001b[0m\u001b[0m\n\u001b[0m",
      "\u001b[1;32mC:\\ProgramData\\Anaconda3\\lib\\site-packages\\pandas\\core\\generic.py\u001b[0m in \u001b[0;36m__getattr__\u001b[1;34m(self, name)\u001b[0m\n\u001b[0;32m   5177\u001b[0m             \u001b[1;32mif\u001b[0m \u001b[0mself\u001b[0m\u001b[1;33m.\u001b[0m\u001b[0m_info_axis\u001b[0m\u001b[1;33m.\u001b[0m\u001b[0m_can_hold_identifiers_and_holds_name\u001b[0m\u001b[1;33m(\u001b[0m\u001b[0mname\u001b[0m\u001b[1;33m)\u001b[0m\u001b[1;33m:\u001b[0m\u001b[1;33m\u001b[0m\u001b[1;33m\u001b[0m\u001b[0m\n\u001b[0;32m   5178\u001b[0m                 \u001b[1;32mreturn\u001b[0m \u001b[0mself\u001b[0m\u001b[1;33m[\u001b[0m\u001b[0mname\u001b[0m\u001b[1;33m]\u001b[0m\u001b[1;33m\u001b[0m\u001b[1;33m\u001b[0m\u001b[0m\n\u001b[1;32m-> 5179\u001b[1;33m             \u001b[1;32mreturn\u001b[0m \u001b[0mobject\u001b[0m\u001b[1;33m.\u001b[0m\u001b[0m__getattribute__\u001b[0m\u001b[1;33m(\u001b[0m\u001b[0mself\u001b[0m\u001b[1;33m,\u001b[0m \u001b[0mname\u001b[0m\u001b[1;33m)\u001b[0m\u001b[1;33m\u001b[0m\u001b[1;33m\u001b[0m\u001b[0m\n\u001b[0m\u001b[0;32m   5180\u001b[0m \u001b[1;33m\u001b[0m\u001b[0m\n\u001b[0;32m   5181\u001b[0m     \u001b[1;32mdef\u001b[0m \u001b[0m__setattr__\u001b[0m\u001b[1;33m(\u001b[0m\u001b[0mself\u001b[0m\u001b[1;33m,\u001b[0m \u001b[0mname\u001b[0m\u001b[1;33m,\u001b[0m \u001b[0mvalue\u001b[0m\u001b[1;33m)\u001b[0m\u001b[1;33m:\u001b[0m\u001b[1;33m\u001b[0m\u001b[1;33m\u001b[0m\u001b[0m\n",
      "\u001b[1;31mAttributeError\u001b[0m: 'DataFrame' object has no attribute 'colums'"
     ]
    }
   ],
   "source": [
    "data = pd.read_csv('data.csv')\n",
    "df = pd.DataFrame(data)\n",
    "print(df.colums)"
   ]
  },
  {
   "cell_type": "code",
   "execution_count": 21,
   "metadata": {},
   "outputs": [],
   "source": [
    "feature_labels = np.array([\n",
    "    'Age', \n",
    "])"
   ]
  },
  {
   "cell_type": "code",
   "execution_count": 42,
   "metadata": {},
   "outputs": [],
   "source": [
    "model = joblib.load('trained_house_classifier_model.pkl')\n",
    "# Create a numpy array based on the model's feature importances\n",
    "importance = model.feature_importances_\n",
    "# Sort the feature labels based on the feature importance rankings from the model\n",
    "# [::-1] reverses the array\n",
    "# [:n] gives that last n elements where n is len of array\n",
    "feauture_indexes_by_importance = importance.argsort()[::-1][:len(feature_labels)]\n",
    "# Slice to take the top 10 features\n",
    "# feauture_indexes_by_importance = feauture_indexes_by_importance[:10]"
   ]
  },
  {
   "cell_type": "code",
   "execution_count": 43,
   "metadata": {},
   "outputs": [
    {
     "name": "stdout",
     "output_type": "stream",
     "text": [
      "total_sqft - 16.30%\n",
      "livable_sqft - 15.12%\n",
      "garage_sqft - 12.23%\n",
      "full_bathrooms - 9.56%\n",
      "num_bedrooms - 5.87%\n",
      "has_pool - 4.40%\n",
      "year_built - 4.31%\n",
      "city_Coletown - 4.21%\n",
      "city_Jeffreyhaven - 3.47%\n",
      "carport_sqft - 3.35%\n",
      "garage_type_none - 2.04%\n",
      "has_fireplace - 1.86%\n",
      "city_Port Andrealand - 1.59%\n",
      "city_Lake Jack - 1.59%\n",
      "city_Lake Christinaport - 1.47%\n",
      "stories - 1.46%\n",
      "city_Scottberg - 1.30%\n",
      "city_Chadstad - 1.12%\n",
      "garage_type_attached - 0.93%\n",
      "half_bathrooms - 0.93%\n",
      "city_Hallfort - 0.66%\n",
      "city_Justinport - 0.65%\n",
      "has_central_cooling - 0.56%\n",
      "city_South Anthony - 0.49%\n",
      "city_Lake Dariusborough - 0.43%\n",
      "city_West Ann - 0.39%\n",
      "city_West Gregoryview - 0.33%\n",
      "has_central_heating - 0.33%\n",
      "city_Lake Carolyn - 0.30%\n",
      "city_East Lucas - 0.27%\n",
      "city_North Erinville - 0.25%\n",
      "city_Richardport - 0.25%\n",
      "city_West Gerald - 0.23%\n",
      "city_Lewishaven - 0.22%\n",
      "city_Morrisport - 0.21%\n",
      "city_East Amychester - 0.20%\n",
      "city_Jenniferberg - 0.19%\n",
      "garage_type_detached - 0.18%\n",
      "city_Port Jonathanborough - 0.12%\n",
      "city_West Lydia - 0.12%\n",
      "city_Davidfort - 0.09%\n",
      "city_Clarkberg - 0.09%\n",
      "city_Port Daniel - 0.05%\n",
      "city_Port Adamtown - 0.05%\n",
      "city_Wendybury - 0.05%\n",
      "city_Toddshire - 0.03%\n",
      "city_Amystad - 0.03%\n",
      "city_Brownport - 0.03%\n",
      "city_East Janiceville - 0.02%\n",
      "city_Leahview - 0.02%\n",
      "city_Joshuafurt - 0.02%\n",
      "city_South Stevenfurt - 0.01%\n",
      "city_West Brittanyview - 0.01%\n",
      "city_West Terrence - 0.01%\n",
      "city_East Justin - 0.01%\n",
      "city_Fosterberg - 0.01%\n",
      "city_Rickytown - 0.01%\n",
      "city_Lake Jennifer - 0.00%\n",
      "city_Davidtown - 0.00%\n",
      "city_Julieberg - 0.00%\n",
      "city_Martinezfort - 0.00%\n",
      "city_New Michele - 0.00%\n",
      "city_New Robinton - 0.00%\n"
     ]
    }
   ],
   "source": [
    "# Print each feature label, from most important to least important (reverse order)\n",
    "for index in feauture_indexes_by_importance:\n",
    "    print(\"{} - {:.2f}%\".format(feature_labels[index], (importance[index] * 100.0)))"
   ]
  },
  {
   "cell_type": "code",
   "execution_count": null,
   "metadata": {},
   "outputs": [],
   "source": []
  }
 ],
 "metadata": {
  "kernelspec": {
   "display_name": "Python 3",
   "language": "python",
   "name": "python3"
  },
  "language_info": {
   "codemirror_mode": {
    "name": "ipython",
    "version": 3
   },
   "file_extension": ".py",
   "mimetype": "text/x-python",
   "name": "python",
   "nbconvert_exporter": "python",
   "pygments_lexer": "ipython3",
   "version": "3.7.4"
  }
 },
 "nbformat": 4,
 "nbformat_minor": 2
}

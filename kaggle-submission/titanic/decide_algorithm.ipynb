{
 "cells": [
  {
   "cell_type": "code",
   "execution_count": 1,
   "metadata": {},
   "outputs": [],
   "source": [
    "import pandas as pd\n",
    "import numpy as np\n",
    "from sklearn.model_selection import train_test_split, cross_val_score\n",
    "from sklearn import linear_model\n",
    "from sklearn.metrics import accuracy_score, confusion_matrix\n",
    "import joblib as joblib\n",
    "from sklearn import ensemble\n",
    "\n",
    "from mylib import preprocessing as prep\n",
    "from mylib import training as tr"
   ]
  },
  {
   "cell_type": "code",
   "execution_count": 2,
   "metadata": {},
   "outputs": [],
   "source": [
    "def load_data(data_filename, label):\n",
    "    print(\"=== Loading Data ===\")\n",
    "    # Load the data set\n",
    "    df = pd.read_csv(data_filename)\n",
    "    # Create the X and y arrays\n",
    "    y = df[label].to_numpy()\n",
    "    del df[label]\n",
    "    X = df.to_numpy()\n",
    "    return X, y\n",
    "\n",
    "def setup_data_and_model(X, y):\n",
    "    print(\"=== Setting up data ===\")\n",
    "    # Split the data set in a training set (70%) and a test set (30%)\n",
    "    X_train, X_test, y_train, y_test = train_test_split(\n",
    "        X,\n",
    "        y,\n",
    "        test_size=0.3,\n",
    "        random_state=0\n",
    "    )\n",
    "\n",
    "    print(\"=== Setting up model ===\")\n",
    "    # Fit regression model\n",
    "    # model = linear_model.LogisticRegression(solver='lbfgs')\n",
    "    # RandomForestClassifier, AdaBoostClassifier, GradientBoostingClassifier\n",
    "    model = ensemble.GradientBoostingClassifier()\n",
    "    return model, X_train, X_test, y_train, y_test"
   ]
  },
  {
   "cell_type": "code",
   "execution_count": 3,
   "metadata": {},
   "outputs": [
    {
     "name": "stdout",
     "output_type": "stream",
     "text": [
      "=== Loading Data ===\n",
      "=== Setting up data ===\n",
      "=== Setting up model ===\n"
     ]
    }
   ],
   "source": [
    "    data_filename = 'train_formatted.csv'\n",
    "    label = 'Survived'\n",
    "    X, y = load_data(data_filename, label)\n",
    "    model, X_train, X_test, y_train, y_test = setup_data_and_model(X, y)"
   ]
  },
  {
   "cell_type": "code",
   "execution_count": 4,
   "metadata": {},
   "outputs": [
    {
     "name": "stdout",
     "output_type": "stream",
     "text": [
      "623\n",
      "623\n"
     ]
    }
   ],
   "source": [
    "print(len(X_train))\n",
    "print(len(y_train))"
   ]
  },
  {
   "cell_type": "code",
   "execution_count": 5,
   "metadata": {},
   "outputs": [
    {
     "name": "stdout",
     "output_type": "stream",
     "text": [
      "========================================\n",
      "Running : RandomForestClassifier\n",
      "Accuracy: 82.8358%\n",
      "Mean Abs Error train : 0.1413\n",
      "Mean Abs Error test  : 0.1716\n",
      "========================================\n",
      "Running : AdaBoostClassifier\n",
      "Accuracy: 81.7164%\n",
      "Mean Abs Error train : 0.1782\n",
      "Mean Abs Error test  : 0.1828\n",
      "========================================\n",
      "Running : GradientBoostingClassifier\n",
      "Accuracy: 81.3433%\n",
      "Mean Abs Error train : 0.1525\n",
      "Mean Abs Error test  : 0.1866\n",
      "========================================\n",
      "Running : SVC\n",
      "Accuracy: 78.7313%\n",
      "Mean Abs Error train : 0.2135\n",
      "Mean Abs Error test  : 0.2127\n",
      "========================================\n",
      "Running : LinearSVC\n",
      "Accuracy: 80.9701%\n",
      "Mean Abs Error train : 0.1734\n",
      "Mean Abs Error test  : 0.1903\n",
      "========================================\n",
      "Running : NuSVC\n",
      "Accuracy: 78.7313%\n",
      "Mean Abs Error train : 0.2135\n",
      "Mean Abs Error test  : 0.2127\n",
      "========================================\n",
      "Running : KNeighborsClassifier\n",
      "Accuracy: 81.3433%\n",
      "Mean Abs Error train : 0.1685\n",
      "Mean Abs Error test  : 0.1866\n",
      "========================================\n",
      "Running : LinearDiscriminantAnalysis\n",
      "Accuracy: 80.2239%\n",
      "Mean Abs Error train : 0.1734\n",
      "Mean Abs Error test  : 0.1978\n",
      "========================================\n",
      "Running : QuadraticDiscriminantAnalysis\n",
      "Accuracy: 37.3134%\n",
      "Mean Abs Error train : 0.6116\n",
      "Mean Abs Error test  : 0.6269\n",
      "========================================\n",
      "Running : GaussianNB\n",
      "Accuracy: 41.0448%\n",
      "Mean Abs Error train : 0.5714\n",
      "Mean Abs Error test  : 0.5896\n",
      "========================================\n",
      "Running : LogisticRegression\n",
      "Accuracy: 79.8507%\n",
      "Mean Abs Error train : 0.1782\n",
      "Mean Abs Error test  : 0.2015\n"
     ]
    }
   ],
   "source": [
    "tr.test_classifier(X_train, X_test, y_train, y_test)"
   ]
  },
  {
   "cell_type": "code",
   "execution_count": null,
   "metadata": {},
   "outputs": [],
   "source": []
  }
 ],
 "metadata": {
  "kernelspec": {
   "display_name": "Python 3",
   "language": "python",
   "name": "python3"
  },
  "language_info": {
   "codemirror_mode": {
    "name": "ipython",
    "version": 3
   },
   "file_extension": ".py",
   "mimetype": "text/x-python",
   "name": "python",
   "nbconvert_exporter": "python",
   "pygments_lexer": "ipython3",
   "version": "3.7.4"
  }
 },
 "nbformat": 4,
 "nbformat_minor": 2
}
